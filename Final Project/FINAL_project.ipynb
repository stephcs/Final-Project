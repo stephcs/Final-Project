{
 "cells": [
  {
   "cell_type": "markdown",
   "metadata": {},
   "source": [
    "# Final project\n",
    "\n",
    "**Can you escape a velociraptor?**\n",
    "\n",
    "Your goal is to figure out whether or not a velociraptor will catch you or if you can outrun it!\n",
    "\n",
    "## Problem 1. Position vs. time\n",
    "\n",
    "Suppose a velociraptor can run 18 m/s. And suppose you can run at 3 m/s, but you have a 30 meter head start. Assume that you and the 'raptor accelerate so quickly that you can ignore acceleration. \n",
    "\n",
    "Make a plot of the position vs. time for both you and the 'raptor (plot both on the same figure). Clearly label all axes and give the plot a legend. Plot over a suitable time frame. Save the figure as a .png file. \n",
    "\n",
    "*This plot will be included in your write-up*."
   ]
  },
  {
   "cell_type": "code",
   "execution_count": 19,
   "metadata": {
    "collapsed": false
   },
   "outputs": [
    {
     "data": {
      "text/plain": [
       "<matplotlib.legend.Legend at 0xba00940>"
      ]
     },
     "execution_count": 19,
     "metadata": {},
     "output_type": "execute_result"
    },
    {
     "data": {
      "image/png": "[encoded data removed]",
      "text/plain": [
       "<matplotlib.figure.Figure at 0xa83bd68>"
      ]
     },
     "metadata": {},
     "output_type": "display_data"
    }
   ],
   "source": [
    "import matplotlib.pylab as plt\n",
    "\n",
    "%matplotlib inline\n",
    "\n",
    "import numpy as np\n",
    "\n",
    "x = [0,1,2,3,4]\n",
    "y1 = [30,33,36,39,42]\n",
    "y2 = [0,18,36,54,72]\n",
    "# Add labels with a bigger font than the default.\n",
    "plt.xlabel('Time(s)',fontsize=15)\n",
    "plt.ylabel('Position(m)',fontsize=15)\n",
    "\n",
    "# Change the plotting range for the xlimits (xlim) and ylimits (ylim).\n",
    "plt.xlim(0,5)\n",
    "plt.ylim(0,80)\n",
    "\n",
    "# Add a title\n",
    "plt.title(\"Outrunning a Raptor\",fontsize=15)\n",
    "\n",
    "plt.plot(x,y1,'g--',linewidth=2,label='Human')\n",
    "plt.plot(x,y2,'r-', linewidth=2, label='Raptor')\n",
    "# - makes line -- makes dashes\n",
    "\n",
    "\n",
    "# Add a legend.\n",
    "plt.legend()"
   ]
  },
  {
   "cell_type": "markdown",
   "metadata": {},
   "source": [
    "## Problem 2. When does the 'raptor catch up to you?\n",
    "\n",
    "Use your code to figure out when the raptor catches up to you. Both how much time has passed and how far *you* have run.  \n",
    "\n",
    "Do not just get this information off the graph. Use your Python code to figure this out! Getting the information just by looking at the plot will result in a 0 for this question. You can use an analytic approach (algebra) to check your answer, but that is not the approach I want you to use. Depending on how you write your code, you might not get an *exact* answer, but you should find a way to get pretty close to the algebraic solution. "
   ]
  },
  {
   "cell_type": "code",
   "execution_count": 25,
   "metadata": {
    "collapsed": false
   },
   "outputs": [
    {
     "name": "stdout",
     "output_type": "stream",
     "text": [
      "36 36 2\n"
     ]
    }
   ],
   "source": [
    "# Your code here.\n",
    "for i in range(len(x)):\n",
    "    h = 30 + (3*i)\n",
    "    r = 18*i\n",
    "    if r==h:\n",
    "        print h,r,i\n",
    "    \n",
    "    "
   ]
  },
  {
   "cell_type": "markdown",
   "metadata": {},
   "source": [
    "## Problem 3. When is it close enough to strike?\n",
    "\n",
    "It turns out the 'raptor will start trying to attack when it is 1 meter away. How much time has passed and how far have you run when it is 1 meter behind you? Use a similar approach as the last problem. \n",
    "\n",
    "***Also make a new copy of the above plot, but label (with a line or arrow or whatever you want) the point at which the raptor is 1 meter behind you.***"
   ]
  },
  {
   "cell_type": "code",
   "execution_count": 134,
   "metadata": {
    "collapsed": false
   },
   "outputs": [
    {
     "data": {
      "text/plain": [
       "<matplotlib.legend.Legend at 0xe46a080>"
      ]
     },
     "execution_count": 134,
     "metadata": {},
     "output_type": "execute_result"
    },
    {
     "data": {
      "image/png": "[encoded data removed]",
      "text/plain": [
       "<matplotlib.figure.Figure at 0xbb3cdd8>"
      ]
     },
     "metadata": {},
     "output_type": "display_data"
    }
   ],
   "source": [
    "# Your code here. \n",
    "i=0\n",
    "while i < len(x):\n",
    "    i+=0.01\n",
    "    h =30+(3*i) #distance of the human\n",
    "    r = 18*i #distance of the raptor\n",
    "\n",
    "    if r==h:\n",
    "        print i\n",
    "\n",
    "import matplotlib.pylab as plt\n",
    "\n",
    "%matplotlib inline\n",
    "\n",
    "import numpy as np\n",
    "\n",
    "x = [0,1,2,3,4]\n",
    "y1 = [30,33,36,39,42]\n",
    "y2 = [0,18,36,54,72]\n",
    "z=[35]\n",
    "# Add labels with a bigger font than the default.\n",
    "plt.xlabel('Time(s)',fontsize=15)\n",
    "plt.ylabel('Position(m)',fontsize=15)\n",
    "\n",
    "# Change the plotting range for the xlimits (xlim) and ylimits (ylim).\n",
    "plt.xlim(0,5)\n",
    "plt.ylim(0,80)\n",
    "\n",
    "# Add a title\n",
    "plt.title(\"Outrunning a Raptor\",fontsize=15)\n",
    "\n",
    "plt.plot(x,y1,'g--',linewidth=2,label='Human')\n",
    "plt.plot(x,y2,'r-', linewidth=2, label='Raptor')\n",
    "plt.plot(i,z,'bo',label='1 meter before')\n",
    "# - makes line -- makes dashes\n",
    "\n",
    "\n",
    "# Add a legend.\n",
    "plt.legend()"
   ]
  },
  {
   "cell_type": "markdown",
   "metadata": {},
   "source": [
    "## Problem 4. Will it bite you?\n",
    "\n",
    "When the 'raptor is 1 meter away, it will try to bite you. If it doesn't bite you, it will try a second and (if necessary) a third time. If it doesn't get you on the third try, it will grow frustrated and stop chasing you. Hurray!\n",
    "\n",
    "Suppose the first time it tries, there is a 20% chance it will bite you. If it misses and it needs to try a second time, there is only a 15% chance, and if it misses *that* time, there is only a 7% chance on the third try. \n",
    "\n",
    "If it bites you once, you're 'raptor food. If it misses all three times, you get away!\n",
    "\n",
    "What is the probability that you will get away?\n"
   ]
  },
  {
   "cell_type": "code",
   "execution_count": 14,
   "metadata": {
    "collapsed": false
   },
   "outputs": [
    {
     "name": "stdout",
     "output_type": "stream",
     "text": [
      "0.0021\n"
     ]
    }
   ],
   "source": [
    "# Your code here\n",
    "\n",
    "first = float(1)/5\n",
    "second = float(15)/100\n",
    "third = float(7)/100\n",
    "probability = first*second*third\n",
    "print probability"
   ]
  },
  {
   "cell_type": "code",
   "execution_count": null,
   "metadata": {
    "collapsed": true
   },
   "outputs": [],
   "source": []
  }
 ],
 "metadata": {
  "kernelspec": {
   "display_name": "Python 2",
   "language": "python",
   "name": "python2"
  },
  "language_info": {
   "codemirror_mode": {
    "name": "ipython",
    "version": 2
   },
   "file_extension": ".py",
   "mimetype": "text/x-python",
   "name": "python",
   "nbconvert_exporter": "python",
   "pygments_lexer": "ipython2",
   "version": "2.7.10"
  }
 },
 "nbformat": 4,
 "nbformat_minor": 0
}
